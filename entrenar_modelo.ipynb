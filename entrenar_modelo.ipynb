{
 "cells": [
  {
   "cell_type": "code",
   "execution_count": 1,
   "id": "975741ca-8494-48f2-8863-0730320eee41",
   "metadata": {},
   "outputs": [
    {
     "name": "stdout",
     "output_type": "stream",
     "text": [
      "Requirement already satisfied: pandas in c:\\users\\jorge\\anaconda3\\lib\\site-packages (2.1.4)\n",
      "Requirement already satisfied: scikit-learn in c:\\users\\jorge\\anaconda3\\lib\\site-packages (1.2.2)\n",
      "Requirement already satisfied: joblib in c:\\users\\jorge\\anaconda3\\lib\\site-packages (1.2.0)\n",
      "Requirement already satisfied: numpy<2,>=1.23.2 in c:\\users\\jorge\\anaconda3\\lib\\site-packages (from pandas) (1.26.4)\n",
      "Requirement already satisfied: python-dateutil>=2.8.2 in c:\\users\\jorge\\appdata\\roaming\\python\\python311\\site-packages (from pandas) (2.8.2)\n",
      "Requirement already satisfied: pytz>=2020.1 in c:\\users\\jorge\\anaconda3\\lib\\site-packages (from pandas) (2023.3.post1)\n",
      "Requirement already satisfied: tzdata>=2022.1 in c:\\users\\jorge\\anaconda3\\lib\\site-packages (from pandas) (2023.3)\n",
      "Requirement already satisfied: scipy>=1.3.2 in c:\\users\\jorge\\anaconda3\\lib\\site-packages (from scikit-learn) (1.11.4)\n",
      "Requirement already satisfied: threadpoolctl>=2.0.0 in c:\\users\\jorge\\anaconda3\\lib\\site-packages (from scikit-learn) (3.6.0)\n",
      "Requirement already satisfied: six>=1.5 in c:\\users\\jorge\\appdata\\roaming\\python\\python311\\site-packages (from python-dateutil>=2.8.2->pandas) (1.16.0)\n"
     ]
    }
   ],
   "source": [
    "!pip install pandas scikit-learn joblib"
   ]
  },
  {
   "cell_type": "code",
   "execution_count": null,
   "id": "f3a9dfd6-f16d-464c-8961-b0e6582ce55a",
   "metadata": {},
   "outputs": [
    {
     "data": {
      "text/plain": [
       "['modelo_costos_rf.pkl']"
      ]
     },
     "execution_count": 7,
     "metadata": {},
     "output_type": "execute_result"
    }
   ],
   "source": [
    "import pandas as pd\n",
    "from sklearn.ensemble import RandomForestRegressor\n",
    "from sklearn.feature_extraction.text import TfidfVectorizer\n",
    "from sklearn.pipeline import Pipeline\n",
    "import joblib\n",
    "\n",
    "ruta = r\"C:\\Users\\jorge\\OneDrive\\Escritorio\\Datos_atenciones.csv\"\n",
    "df = pd.read_csv(ruta)\n",
    "\n",
    "df.columns = df.columns.str.strip()\n",
    "\n",
    "df = df[[\"SECCION\", \"SUB CATEGORIA\", \"TIPO DE SOLICITUD\", \"PROCESOS\", \"TIEMPO PROMEDIO\", \"COSTO\"]].dropna()\n",
    "\n",
    "df[\"COSTO\"] = df[\"COSTO\"].replace(r'[\\$,]', '', regex=True).astype(float)\n",
    "\n",
    "df[\"ENTRADA_COMBINADA\"] = (\n",
    "    df[\"SECCION\"].astype(str) + \" \" +\n",
    "    df[\"SUB CATEGORIA\"].astype(str) + \" \" +\n",
    "    df[\"TIPO DE SOLICITUD\"].astype(str) + \" \" +\n",
    "    df[\"PROCESOS\"].astype(str) + \" \" +\n",
    "    df[\"TIEMPO PROMEDIO\"].astype(str)\n",
    ")\n",
    "\n",
    "# Separar características (X) y etiquetas (y)\n",
    "X = df[\"ENTRADA_COMBINADA\"]\n",
    "y = df[\"COSTO\"]\n",
    "\n",
    "# Crear pipeline con TF-IDF y Random Forest\n",
    "modelo = Pipeline([\n",
    "    (\"vectorizer\", TfidfVectorizer()),\n",
    "    (\"regressor\", RandomForestRegressor(n_estimators=100, random_state=42))\n",
    "])\n",
    "\n",
    "# Entrenar el modelo\n",
    "modelo.fit(X, y)\n",
    "\n",
    "# El modelo ya está entrenado, puedes hacer predicciones con:\n",
    "joblib.dump(modelo, \"modelo_costos_rf.pkl\")\n"
   ]
  },
  {
   "cell_type": "code",
   "execution_count": 8,
   "id": "916f6928-9ce3-4b62-aa92-87d5042a6c81",
   "metadata": {},
   "outputs": [
    {
     "name": "stdout",
     "output_type": "stream",
     "text": [
      "Costo estimado: $5.16\n"
     ]
    }
   ],
   "source": [
    "ejemplo = \"DESARROLLO DE SISTEMAS ATENCIONES AYUDA SUNAT 15\"\n",
    "prediccion = modelo.predict([ejemplo])\n",
    "print(f\"Costo estimado: ${prediccion[0]:.2f}\")"
   ]
  },
  {
   "cell_type": "code",
   "execution_count": null,
   "id": "87c5207e-afab-45c2-b721-7d085de8d175",
   "metadata": {},
   "outputs": [],
   "source": []
  },
  {
   "cell_type": "code",
   "execution_count": null,
   "id": "428163e5-2042-45b5-abdb-158d0cdabe06",
   "metadata": {},
   "outputs": [],
   "source": []
  }
 ],
 "metadata": {
  "kernelspec": {
   "display_name": "venv-tf",
   "language": "python",
   "name": "venv-tf"
  },
  "language_info": {
   "codemirror_mode": {
    "name": "ipython",
    "version": 3
   },
   "file_extension": ".py",
   "mimetype": "text/x-python",
   "name": "python",
   "nbconvert_exporter": "python",
   "pygments_lexer": "ipython3",
   "version": "3.13.1"
  }
 },
 "nbformat": 4,
 "nbformat_minor": 5
}
