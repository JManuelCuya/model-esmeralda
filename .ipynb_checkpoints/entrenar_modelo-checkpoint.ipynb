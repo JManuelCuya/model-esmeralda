{
 "cells": [
  {
   "cell_type": "code",
   "execution_count": 23,
   "id": "975741ca-8494-48f2-8863-0730320eee41",
   "metadata": {},
   "outputs": [
    {
     "name": "stdout",
     "output_type": "stream",
     "text": [
      "Found existing installation: scikit-learn 1.7.0\n",
      "Uninstalling scikit-learn-1.7.0:\n",
      "  Successfully uninstalled scikit-learn-1.7.0\n",
      "Collecting scikit-learn==1.2.2\n",
      "  Downloading scikit_learn-1.2.2-cp311-cp311-win_amd64.whl.metadata (11 kB)\n",
      "Requirement already satisfied: numpy>=1.17.3 in c:\\users\\jorge\\anaconda3\\lib\\site-packages (from scikit-learn==1.2.2) (1.26.4)\n",
      "Requirement already satisfied: scipy>=1.3.2 in c:\\users\\jorge\\anaconda3\\lib\\site-packages (from scikit-learn==1.2.2) (1.11.4)\n",
      "Requirement already satisfied: joblib>=1.1.1 in c:\\users\\jorge\\anaconda3\\lib\\site-packages (from scikit-learn==1.2.2) (1.2.0)\n",
      "Requirement already satisfied: threadpoolctl>=2.0.0 in c:\\users\\jorge\\anaconda3\\lib\\site-packages (from scikit-learn==1.2.2) (3.6.0)\n",
      "Downloading scikit_learn-1.2.2-cp311-cp311-win_amd64.whl (8.3 MB)\n",
      "   ---------------------------------------- 0.0/8.3 MB ? eta -:--:--\n",
      "   --- ------------------------------------ 0.7/8.3 MB 14.6 MB/s eta 0:00:01\n",
      "   ------- -------------------------------- 1.6/8.3 MB 20.2 MB/s eta 0:00:01\n",
      "   ------------ --------------------------- 2.5/8.3 MB 20.3 MB/s eta 0:00:01\n",
      "   ---------------- ----------------------- 3.3/8.3 MB 19.2 MB/s eta 0:00:01\n",
      "   --------------------- ------------------ 4.4/8.3 MB 20.1 MB/s eta 0:00:01\n",
      "   -------------------------- ------------- 5.5/8.3 MB 20.6 MB/s eta 0:00:01\n",
      "   -------------------------------- ------- 6.6/8.3 MB 22.3 MB/s eta 0:00:01\n",
      "   ---------------------------------------  8.1/8.3 MB 22.4 MB/s eta 0:00:01\n",
      "   ---------------------------------------  8.3/8.3 MB 23.0 MB/s eta 0:00:01\n",
      "   ---------------------------------------- 8.3/8.3 MB 18.9 MB/s eta 0:00:00\n",
      "Installing collected packages: scikit-learn\n",
      "Successfully installed scikit-learn-1.2.2\n"
     ]
    }
   ],
   "source": [
    "!pip uninstall -y scikit-learn\n",
    "!pip install scikit-learn==1.2.2"
   ]
  },
  {
   "cell_type": "code",
   "execution_count": 2,
   "id": "f3a9dfd6-f16d-464c-8961-b0e6582ce55a",
   "metadata": {},
   "outputs": [
    {
     "name": "stderr",
     "output_type": "stream",
     "text": [
      "<>:18: SyntaxWarning: invalid escape sequence '\\$'\n",
      "<>:18: SyntaxWarning: invalid escape sequence '\\$'\n",
      "C:\\Users\\jorge\\AppData\\Local\\Temp\\ipykernel_9900\\812739318.py:18: SyntaxWarning: invalid escape sequence '\\$'\n",
      "  df[\"COSTO\"] = df[\"COSTO\"].replace('[\\$,]', '', regex=True).astype(float)\n"
     ]
    },
    {
     "ename": "ModuleNotFoundError",
     "evalue": "No module named 'pandas'",
     "output_type": "error",
     "traceback": [
      "\u001b[31m---------------------------------------------------------------------------\u001b[39m",
      "\u001b[31mModuleNotFoundError\u001b[39m                       Traceback (most recent call last)",
      "\u001b[36mCell\u001b[39m\u001b[36m \u001b[39m\u001b[32mIn[2]\u001b[39m\u001b[32m, line 1\u001b[39m\n\u001b[32m----> \u001b[39m\u001b[32m1\u001b[39m \u001b[38;5;28;01mimport\u001b[39;00m\u001b[38;5;250m \u001b[39m\u001b[34;01mpandas\u001b[39;00m\u001b[38;5;250m \u001b[39m\u001b[38;5;28;01mas\u001b[39;00m\u001b[38;5;250m \u001b[39m\u001b[34;01mpd\u001b[39;00m\n\u001b[32m      2\u001b[39m \u001b[38;5;28;01mfrom\u001b[39;00m\u001b[38;5;250m \u001b[39m\u001b[34;01msklearn\u001b[39;00m\u001b[34;01m.\u001b[39;00m\u001b[34;01mensemble\u001b[39;00m\u001b[38;5;250m \u001b[39m\u001b[38;5;28;01mimport\u001b[39;00m RandomForestRegressor\n\u001b[32m      3\u001b[39m \u001b[38;5;28;01mfrom\u001b[39;00m\u001b[38;5;250m \u001b[39m\u001b[34;01msklearn\u001b[39;00m\u001b[34;01m.\u001b[39;00m\u001b[34;01mfeature_extraction\u001b[39;00m\u001b[34;01m.\u001b[39;00m\u001b[34;01mtext\u001b[39;00m\u001b[38;5;250m \u001b[39m\u001b[38;5;28;01mimport\u001b[39;00m TfidfVectorizer\n",
      "\u001b[31mModuleNotFoundError\u001b[39m: No module named 'pandas'"
     ]
    }
   ],
   "source": [
    "import pandas as pd\n",
    "from sklearn.ensemble import RandomForestRegressor\n",
    "from sklearn.feature_extraction.text import TfidfVectorizer\n",
    "from sklearn.pipeline import Pipeline\n",
    "import joblib\n",
    "\n",
    "# Cargar el archivo CSV\n",
    "ruta = r\"C:\\Users\\jorge\\OneDrive\\Escritorio\\Datos_atenciones.csv\"\n",
    "df = pd.read_csv(ruta)\n",
    "\n",
    "# Limpiar nombres de columnas\n",
    "df.columns = df.columns.str.strip()\n",
    "\n",
    "# Eliminar filas incompletas\n",
    "df = df[[\"SECCION\", \"SUB CATEGORIA\", \"TIPO DE SOLICITUD\", \"PROCESOS\", \"TIEMPO PROMEDIO\", \"COSTO\"]].dropna()\n",
    "\n",
    "# Limpiar el campo de costo\n",
    "df[\"COSTO\"] = df[\"COSTO\"].replace(r'[\\$,]', '', regex=True).astype(float)\n",
    "\n",
    "\n",
    "# Combinar campos relevantes en una sola entrada textual\n",
    "df[\"ENTRADA_COMBINADA\"] = (\n",
    "    df[\"SECCION\"].astype(str) + \" \" +\n",
    "    df[\"SUB CATEGORIA\"].astype(str) + \" \" +\n",
    "    df[\"TIPO DE SOLICITUD\"].astype(str) + \" \" +\n",
    "    df[\"PROCESOS\"].astype(str) + \" \" +\n",
    "    df[\"TIEMPO PROMEDIO\"].astype(str)\n",
    ")\n",
    "\n",
    "# Separar características (X) y etiquetas (y)\n",
    "X = df[\"ENTRADA_COMBINADA\"]\n",
    "y = df[\"COSTO\"]\n",
    "\n",
    "# Crear pipeline con TF-IDF y Random Forest\n",
    "modelo = Pipeline([\n",
    "    (\"vectorizer\", TfidfVectorizer()),\n",
    "    (\"regressor\", RandomForestRegressor(n_estimators=100, random_state=42))\n",
    "])\n",
    "\n",
    "# Entrenar el modelo\n",
    "modelo.fit(X, y)\n",
    "\n",
    "# El modelo ya está entrenado, puedes hacer predicciones con:\n",
    "joblib.dump(modelo, \"modelo_costos_rf.pkl\")\n"
   ]
  },
  {
   "cell_type": "code",
   "execution_count": 3,
   "id": "916f6928-9ce3-4b62-aa92-87d5042a6c81",
   "metadata": {},
   "outputs": [
    {
     "ename": "NameError",
     "evalue": "name 'modelo' is not defined",
     "output_type": "error",
     "traceback": [
      "\u001b[31m---------------------------------------------------------------------------\u001b[39m",
      "\u001b[31mNameError\u001b[39m                                 Traceback (most recent call last)",
      "\u001b[36mCell\u001b[39m\u001b[36m \u001b[39m\u001b[32mIn[3]\u001b[39m\u001b[32m, line 2\u001b[39m\n\u001b[32m      1\u001b[39m ejemplo = \u001b[33m\"\u001b[39m\u001b[33mDESARROLLO DE SISTEMAS ATENCIONES AYUDA SUNAT 15\u001b[39m\u001b[33m\"\u001b[39m\n\u001b[32m----> \u001b[39m\u001b[32m2\u001b[39m prediccion = \u001b[43mmodelo\u001b[49m.predict([ejemplo])\n\u001b[32m      3\u001b[39m \u001b[38;5;28mprint\u001b[39m(\u001b[33mf\u001b[39m\u001b[33m\"\u001b[39m\u001b[33mCosto estimado: $\u001b[39m\u001b[38;5;132;01m{\u001b[39;00mprediccion[\u001b[32m0\u001b[39m]\u001b[38;5;132;01m:\u001b[39;00m\u001b[33m.2f\u001b[39m\u001b[38;5;132;01m}\u001b[39;00m\u001b[33m\"\u001b[39m)\n",
      "\u001b[31mNameError\u001b[39m: name 'modelo' is not defined"
     ]
    }
   ],
   "source": [
    "ejemplo = \"DESARROLLO DE SISTEMAS ATENCIONES AYUDA SUNAT 15\"\n",
    "prediccion = modelo.predict([ejemplo])\n",
    "print(f\"Costo estimado: ${prediccion[0]:.2f}\")"
   ]
  },
  {
   "cell_type": "code",
   "execution_count": null,
   "id": "87c5207e-afab-45c2-b721-7d085de8d175",
   "metadata": {},
   "outputs": [],
   "source": []
  },
  {
   "cell_type": "code",
   "execution_count": null,
   "id": "428163e5-2042-45b5-abdb-158d0cdabe06",
   "metadata": {},
   "outputs": [],
   "source": []
  }
 ],
 "metadata": {
  "kernelspec": {
   "display_name": "venv-tf",
   "language": "python",
   "name": "venv-tf"
  },
  "language_info": {
   "codemirror_mode": {
    "name": "ipython",
    "version": 3
   },
   "file_extension": ".py",
   "mimetype": "text/x-python",
   "name": "python",
   "nbconvert_exporter": "python",
   "pygments_lexer": "ipython3",
   "version": "3.13.1"
  }
 },
 "nbformat": 4,
 "nbformat_minor": 5
}
